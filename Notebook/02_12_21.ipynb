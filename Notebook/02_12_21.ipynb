{
 "cells": [
  {
   "cell_type": "code",
   "execution_count": 7,
   "id": "c007969f",
   "metadata": {
    "scrolled": true
   },
   "outputs": [
    {
     "data": {
      "text/plain": [
       "120"
      ]
     },
     "execution_count": 7,
     "metadata": {},
     "output_type": "execute_result"
    }
   ],
   "source": [
    "#Factorial number function\n",
    "\n",
    "def fact(n):\n",
    "    a = 1\n",
    "    b = 1\n",
    "    while a <= n:\n",
    "        b = b * a\n",
    "        a = a + 1\n",
    "    return b\n",
    "fact(5)"
   ]
  },
  {
   "cell_type": "code",
   "execution_count": 5,
   "id": "d9109d6c",
   "metadata": {},
   "outputs": [
    {
     "data": {
      "text/plain": [
       "6"
      ]
     },
     "execution_count": 5,
     "metadata": {},
     "output_type": "execute_result"
    }
   ],
   "source": [
    "def fact(n):\n",
    "    a = 1\n",
    "    for i in range(1, n+1):\n",
    "        a = a * i\n",
    "    return a\n",
    "fact(3)"
   ]
  },
  {
   "cell_type": "code",
   "execution_count": 14,
   "id": "e2344169",
   "metadata": {},
   "outputs": [
    {
     "data": {
      "text/plain": [
       "30414093201713378043612608166064768844377641568960512000000000000"
      ]
     },
     "execution_count": 14,
     "metadata": {},
     "output_type": "execute_result"
    }
   ],
   "source": [
    "def fact(n):\n",
    "    if n == 2:\n",
    "        return 2\n",
    "    else:\n",
    "        return n * fact(n-1)\n",
    "fact(50)"
   ]
  },
  {
   "cell_type": "code",
   "execution_count": 16,
   "id": "23e06d99",
   "metadata": {},
   "outputs": [
    {
     "data": {
      "text/plain": [
       "0"
      ]
     },
     "execution_count": 16,
     "metadata": {},
     "output_type": "execute_result"
    }
   ],
   "source": [
    "#Pending\n",
    "def fib(n):\n",
    "    if n == 1:\n",
    "        return 0\n",
    "    elif n == 2:\n",
    "        return 1\n",
    "    else:\n",
    "        return \n",
    "    \n",
    "fib(1)"
   ]
  },
  {
   "cell_type": "code",
   "execution_count": null,
   "id": "c36d4141",
   "metadata": {},
   "outputs": [],
   "source": []
  },
  {
   "cell_type": "code",
   "execution_count": 27,
   "id": "40f1ad8a",
   "metadata": {},
   "outputs": [
    {
     "name": "stdout",
     "output_type": "stream",
     "text": [
      "3\n",
      "3\n",
      "1\n",
      "0\n"
     ]
    }
   ],
   "source": [
    "#Matrix Multiplication of L1 n L2 \n",
    "\n",
    "l1 = [[3,3],[1,0]]\n",
    "l2 = [[1,0],[0,1]]\n",
    "r = [[0]*2]*2\n",
    "\n",
    "for i in range(len(l1)):\n",
    "    for j in range(len(l2[0])):\n",
    "        r=0\n",
    "        for k in range(len(l2)):\n",
    "            r += l1[i][k] * l2[k][j]\n",
    "        print(r)"
   ]
  },
  {
   "cell_type": "code",
   "execution_count": null,
   "id": "ae83126a",
   "metadata": {},
   "outputs": [],
   "source": []
  },
  {
   "cell_type": "code",
   "execution_count": null,
   "id": "262e5a3d",
   "metadata": {},
   "outputs": [],
   "source": []
  }
 ],
 "metadata": {
  "kernelspec": {
   "display_name": "Python 3 (ipykernel)",
   "language": "python",
   "name": "python3"
  },
  "language_info": {
   "codemirror_mode": {
    "name": "ipython",
    "version": 3
   },
   "file_extension": ".py",
   "mimetype": "text/x-python",
   "name": "python",
   "nbconvert_exporter": "python",
   "pygments_lexer": "ipython3",
   "version": "3.7.11"
  }
 },
 "nbformat": 4,
 "nbformat_minor": 5
}
