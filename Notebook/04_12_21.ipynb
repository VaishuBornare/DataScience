{
 "cells": [
  {
   "cell_type": "markdown",
   "id": "13b7f1f1",
   "metadata": {},
   "source": [
    "# NUMPY"
   ]
  },
  {
   "cell_type": "code",
   "execution_count": 1,
   "id": "6c2e8ed3",
   "metadata": {},
   "outputs": [
    {
     "name": "stdout",
     "output_type": "stream",
     "text": [
      "Requirement already satisfied: numpy in c:\\users\\hp\\.conda\\envs\\3ri\\lib\\site-packages (1.20.3)\n"
     ]
    }
   ],
   "source": [
    "!pip install numpy"
   ]
  },
  {
   "cell_type": "code",
   "execution_count": 4,
   "id": "53745254",
   "metadata": {},
   "outputs": [
    {
     "name": "stdout",
     "output_type": "stream",
     "text": [
      "[1 2 3]\n",
      "<class 'numpy.ndarray'>\n"
     ]
    }
   ],
   "source": [
    "import numpy as np\n",
    "a = [1,2,3]\n",
    "A = np.array(a)\n",
    "print(A)\n",
    "print(type(A))"
   ]
  },
  {
   "cell_type": "code",
   "execution_count": 9,
   "id": "3aeff07c",
   "metadata": {},
   "outputs": [
    {
     "name": "stdout",
     "output_type": "stream",
     "text": [
      "[[1 2 3]\n",
      " [4 5 6]]\n"
     ]
    }
   ],
   "source": [
    "a = [[1,2,3],[4,5,6]]\n",
    "A = np.array(a)\n",
    "print(A)"
   ]
  },
  {
   "cell_type": "code",
   "execution_count": 8,
   "id": "faae2b07",
   "metadata": {},
   "outputs": [
    {
     "data": {
      "text/plain": [
       "3"
      ]
     },
     "execution_count": 8,
     "metadata": {},
     "output_type": "execute_result"
    }
   ],
   "source": [
    "A[0][2]"
   ]
  },
  {
   "cell_type": "code",
   "execution_count": 20,
   "id": "56c5ff6d",
   "metadata": {},
   "outputs": [],
   "source": [
    "A1 = np.array([[1,2,3],[4,5,6],[2,4,5]])\n",
    "A2 = np.array([[7,8,9],[3,6,9],[4,5,7]])"
   ]
  },
  {
   "cell_type": "code",
   "execution_count": 15,
   "id": "1fe3e4fd",
   "metadata": {},
   "outputs": [
    {
     "data": {
      "text/plain": [
       "(2, 3)"
      ]
     },
     "execution_count": 15,
     "metadata": {},
     "output_type": "execute_result"
    }
   ],
   "source": [
    "A2.shape   #Order or matrix"
   ]
  },
  {
   "cell_type": "code",
   "execution_count": 13,
   "id": "dbdbb990",
   "metadata": {},
   "outputs": [
    {
     "data": {
      "text/plain": [
       "6"
      ]
     },
     "execution_count": 13,
     "metadata": {},
     "output_type": "execute_result"
    }
   ],
   "source": [
    "A2.size   #No of elements or size of matrix"
   ]
  },
  {
   "cell_type": "code",
   "execution_count": 17,
   "id": "ad6674e8",
   "metadata": {},
   "outputs": [
    {
     "name": "stdout",
     "output_type": "stream",
     "text": [
      "Shape  (2, 3)\n",
      "Size  6\n"
     ]
    }
   ],
   "source": [
    "print(\"Shape \",A2.shape)\n",
    "print(\"Size \",A2.size)"
   ]
  },
  {
   "cell_type": "code",
   "execution_count": 18,
   "id": "3cd265ca",
   "metadata": {},
   "outputs": [
    {
     "data": {
      "text/plain": [
       "array([[ 7, 16, 27],\n",
       "       [12, 30, 54]])"
      ]
     },
     "execution_count": 18,
     "metadata": {},
     "output_type": "execute_result"
    }
   ],
   "source": [
    "A1 * A2"
   ]
  },
  {
   "cell_type": "code",
   "execution_count": 21,
   "id": "7062c0b5",
   "metadata": {},
   "outputs": [
    {
     "data": {
      "text/plain": [
       "array([[ 25,  35,  48],\n",
       "       [ 67,  92, 123],\n",
       "       [ 46,  65,  89]])"
      ]
     },
     "execution_count": 21,
     "metadata": {},
     "output_type": "execute_result"
    }
   ],
   "source": [
    "np.dot(A1,A2)     #Matrix Multiplication"
   ]
  },
  {
   "cell_type": "code",
   "execution_count": 25,
   "id": "ec4cc2c3",
   "metadata": {},
   "outputs": [
    {
     "data": {
      "text/plain": [
       "[[1, 2, 3], [4, 5, 6], [2, 4, 5]]"
      ]
     },
     "execution_count": 25,
     "metadata": {},
     "output_type": "execute_result"
    }
   ],
   "source": [
    "A1.tolist()    #Convert Array in to List"
   ]
  },
  {
   "cell_type": "code",
   "execution_count": 26,
   "id": "86f25f9b",
   "metadata": {},
   "outputs": [
    {
     "data": {
      "text/plain": [
       "matrix([[1, 2, 3],\n",
       "        [4, 5, 6],\n",
       "        [2, 4, 5]])"
      ]
     },
     "execution_count": 26,
     "metadata": {},
     "output_type": "execute_result"
    }
   ],
   "source": [
    "np.matrix(A1)"
   ]
  },
  {
   "cell_type": "code",
   "execution_count": 27,
   "id": "c9748ff3",
   "metadata": {},
   "outputs": [
    {
     "data": {
      "text/plain": [
       "array([[1, 2, 3],\n",
       "       [4, 5, 6],\n",
       "       [2, 4, 5]])"
      ]
     },
     "execution_count": 27,
     "metadata": {},
     "output_type": "execute_result"
    }
   ],
   "source": [
    "np.array(A1)"
   ]
  },
  {
   "cell_type": "code",
   "execution_count": 36,
   "id": "1fb84cee",
   "metadata": {},
   "outputs": [
    {
     "data": {
      "text/plain": [
       "array([[7, 8, 9, 3, 6, 9, 4, 5, 7]])"
      ]
     },
     "execution_count": 36,
     "metadata": {},
     "output_type": "execute_result"
    }
   ],
   "source": [
    "A2.reshape((1,9))"
   ]
  },
  {
   "cell_type": "code",
   "execution_count": 37,
   "id": "b8375faa",
   "metadata": {},
   "outputs": [
    {
     "data": {
      "text/plain": [
       "array([[7],\n",
       "       [8],\n",
       "       [9],\n",
       "       [3],\n",
       "       [6],\n",
       "       [9],\n",
       "       [4],\n",
       "       [5],\n",
       "       [7]])"
      ]
     },
     "execution_count": 37,
     "metadata": {},
     "output_type": "execute_result"
    }
   ],
   "source": [
    "A2.reshape((9,1))"
   ]
  },
  {
   "cell_type": "code",
   "execution_count": 38,
   "id": "b0e6321c",
   "metadata": {},
   "outputs": [
    {
     "data": {
      "text/plain": [
       "array([[7, 8, 9, 3, 6, 9, 4, 5, 7]])"
      ]
     },
     "execution_count": 38,
     "metadata": {},
     "output_type": "execute_result"
    }
   ],
   "source": [
    "A2.reshape(1,9)"
   ]
  },
  {
   "cell_type": "code",
   "execution_count": 39,
   "id": "600a627c",
   "metadata": {},
   "outputs": [
    {
     "data": {
      "text/plain": [
       "array([1, 2, 3, 4, 5, 6, 2, 4, 5])"
      ]
     },
     "execution_count": 39,
     "metadata": {},
     "output_type": "execute_result"
    }
   ],
   "source": [
    "A1.flatten()     #shows single array "
   ]
  },
  {
   "cell_type": "code",
   "execution_count": 43,
   "id": "60adbee3",
   "metadata": {},
   "outputs": [
    {
     "name": "stdout",
     "output_type": "stream",
     "text": [
      "[[1 2 3 4 5 6 2 4 5]]\n",
      "[[1]\n",
      " [2]\n",
      " [3]\n",
      " [4]\n",
      " [5]\n",
      " [6]\n",
      " [2]\n",
      " [4]\n",
      " [5]]\n"
     ]
    }
   ],
   "source": [
    "print(A1.reshape(1,9))\n",
    "print(A1.reshape(9,1))"
   ]
  },
  {
   "cell_type": "markdown",
   "id": "cbeeb546",
   "metadata": {},
   "source": [
    "# QUESTION HW"
   ]
  },
  {
   "cell_type": "code",
   "execution_count": 45,
   "id": "c46c1de8",
   "metadata": {},
   "outputs": [],
   "source": [
    "#Matrix 3*3 \n",
    "\n"
   ]
  },
  {
   "cell_type": "code",
   "execution_count": 56,
   "id": "4b09b26f",
   "metadata": {},
   "outputs": [
    {
     "data": {
      "text/plain": [
       "[1, 2, 5, 6]"
      ]
     },
     "execution_count": 56,
     "metadata": {},
     "output_type": "execute_result"
    }
   ],
   "source": [
    "##Only Get Int Value from List\n",
    "\n",
    "a = [1,2,'a',5,'b','d',6]\n",
    "b = [x for x in a if type(x) is int]\n",
    "b"
   ]
  },
  {
   "cell_type": "code",
   "execution_count": 70,
   "id": "90a6e954",
   "metadata": {},
   "outputs": [
    {
     "data": {
      "text/plain": [
       "[1, 2, 5, 6]"
      ]
     },
     "execution_count": 70,
     "metadata": {},
     "output_type": "execute_result"
    }
   ],
   "source": [
    "#OR\n",
    "\n",
    "b = [x for x in a if type(x) == int]\n",
    "b"
   ]
  },
  {
   "cell_type": "code",
   "execution_count": 68,
   "id": "36560007",
   "metadata": {},
   "outputs": [
    {
     "name": "stdout",
     "output_type": "stream",
     "text": [
      "1\n",
      "2\n",
      "5\n",
      "6\n"
     ]
    }
   ],
   "source": [
    "a = [1,2,'a',5,'b','d',6]\n",
    "\n",
    "for x in a:\n",
    "    if type(x) == int:\n",
    "        print(x)"
   ]
  },
  {
   "cell_type": "code",
   "execution_count": 72,
   "id": "520fdf32",
   "metadata": {},
   "outputs": [
    {
     "data": {
      "text/plain": [
       "range(0, 20)"
      ]
     },
     "execution_count": 72,
     "metadata": {},
     "output_type": "execute_result"
    }
   ],
   "source": [
    "l = range(20)\n",
    "l"
   ]
  },
  {
   "cell_type": "code",
   "execution_count": 83,
   "id": "522a3a91",
   "metadata": {},
   "outputs": [
    {
     "data": {
      "text/plain": [
       "[0, 2, 4, 6, 8, 10, 12, 14, 16, 18]"
      ]
     },
     "execution_count": 83,
     "metadata": {},
     "output_type": "execute_result"
    }
   ],
   "source": [
    "b = [x for x in l if x%2==0]\n",
    "b"
   ]
  },
  {
   "cell_type": "code",
   "execution_count": 90,
   "id": "1d5e78bb",
   "metadata": {},
   "outputs": [
    {
     "name": "stdout",
     "output_type": "stream",
     "text": [
      "0 Even\n",
      "1 Odd\n",
      "2 Even\n",
      "3 Odd\n",
      "4 Even\n",
      "5 Odd\n",
      "6 Even\n",
      "7 Odd\n",
      "8 Even\n",
      "9 Odd\n",
      "10 Even\n",
      "11 Odd\n",
      "12 Even\n",
      "13 Odd\n",
      "14 Even\n",
      "15 Odd\n",
      "16 Even\n",
      "17 Odd\n",
      "18 Even\n",
      "19 Odd\n"
     ]
    }
   ],
   "source": [
    "l = range(20)\n",
    "l1 = []\n",
    "for x in l:\n",
    "    if x%2 == 0:\n",
    "        l1.append(\"Even\")\n",
    "    else:\n",
    "        l1.append(\"Odd\")\n",
    "    print(x, l1[x])"
   ]
  },
  {
   "cell_type": "code",
   "execution_count": 109,
   "id": "f8db964a",
   "metadata": {},
   "outputs": [
    {
     "name": "stdout",
     "output_type": "stream",
     "text": [
      "['0 -> Even', '1 -> Odd', '2 -> Even', '3 -> Odd', '4 -> Even', '5 -> Odd', '6 -> Even', '7 -> Odd', '8 -> Even', '9 -> Odd', '10 -> Even', '11 -> Odd', '12 -> Even', '13 -> Odd', '14 -> Even', '15 -> Odd', '16 -> Even', '17 -> Odd', '18 -> Even', '19 -> Odd']\n"
     ]
    }
   ],
   "source": [
    "l = range(20)\n",
    "l1 = []\n",
    "for x in l:\n",
    "    if x%2 == 0:\n",
    "        l1.append(f\"{x} -> Even\")\n",
    "    else:\n",
    "        l1.append(f\"{x} -> Odd\")\n",
    "print(l1)"
   ]
  },
  {
   "cell_type": "code",
   "execution_count": 106,
   "id": "6a4e6159",
   "metadata": {},
   "outputs": [
    {
     "data": {
      "text/plain": [
       "['0 --> Even',\n",
       " '1 --> Odd',\n",
       " '2 --> Even',\n",
       " '3 --> Odd',\n",
       " '4 --> Even',\n",
       " '5 --> Odd',\n",
       " '6 --> Even',\n",
       " '7 --> Odd',\n",
       " '8 --> Even',\n",
       " '9 --> Odd',\n",
       " '10 --> Even',\n",
       " '11 --> Odd',\n",
       " '12 --> Even',\n",
       " '13 --> Odd',\n",
       " '14 --> Even',\n",
       " '15 --> Odd',\n",
       " '16 --> Even',\n",
       " '17 --> Odd',\n",
       " '18 --> Even',\n",
       " '19 --> Odd']"
      ]
     },
     "execution_count": 106,
     "metadata": {},
     "output_type": "execute_result"
    }
   ],
   "source": [
    "l = range(20)\n",
    "\n",
    "l = [f\"{x} --> Even\" if x%2 == 0 else  f\"{x} --> Odd\" for x in l ]\n",
    "l"
   ]
  },
  {
   "cell_type": "code",
   "execution_count": 118,
   "id": "95fa0f1f",
   "metadata": {},
   "outputs": [
    {
     "data": {
      "text/plain": [
       "\"[1, 2, 'a', 'b', 4, 'c', 6]\""
      ]
     },
     "execution_count": 118,
     "metadata": {},
     "output_type": "execute_result"
    }
   ],
   "source": [
    "l2 = [1,2,'a','b',4,'c',6]\n",
    "str(l2)"
   ]
  },
  {
   "cell_type": "code",
   "execution_count": 124,
   "id": "d5ee54cf",
   "metadata": {},
   "outputs": [],
   "source": [
    "file = open(\"l1.txt\", \"w\")\n",
    "file.write(str(l2))\n",
    "file.close()"
   ]
  },
  {
   "cell_type": "code",
   "execution_count": 126,
   "id": "d5361af1",
   "metadata": {},
   "outputs": [
    {
     "data": {
      "text/plain": [
       "\"[1, 2, 'a', 'b', 4, 'c', 6]\""
      ]
     },
     "execution_count": 126,
     "metadata": {},
     "output_type": "execute_result"
    }
   ],
   "source": [
    "file = open(\"l1.txt\",\"r\")\n",
    "file.read()"
   ]
  },
  {
   "cell_type": "code",
   "execution_count": 127,
   "id": "d8849a14",
   "metadata": {},
   "outputs": [],
   "source": [
    "file.close()"
   ]
  },
  {
   "cell_type": "code",
   "execution_count": null,
   "id": "a07f5935",
   "metadata": {},
   "outputs": [],
   "source": []
  }
 ],
 "metadata": {
  "kernelspec": {
   "display_name": "Python 3 (ipykernel)",
   "language": "python",
   "name": "python3"
  },
  "language_info": {
   "codemirror_mode": {
    "name": "ipython",
    "version": 3
   },
   "file_extension": ".py",
   "mimetype": "text/x-python",
   "name": "python",
   "nbconvert_exporter": "python",
   "pygments_lexer": "ipython3",
   "version": "3.7.11"
  }
 },
 "nbformat": 4,
 "nbformat_minor": 5
}
