{
 "cells": [
  {
   "cell_type": "code",
   "execution_count": 5,
   "metadata": {},
   "outputs": [
    {
     "name": "stdout",
     "output_type": "stream",
     "text": [
      "True True True True\n"
     ]
    }
   ],
   "source": [
    "s = \"It's raining heavily, as monsoon is coming\"\n",
    "l = ['I', 'rain', 'as', 'coming']\n",
    "\n",
    "print(l[0] in s, l[1] in s, l[2] in s, l[3] in s)\n",
    "    "
   ]
  },
  {
   "cell_type": "code",
   "execution_count": null,
   "metadata": {},
   "outputs": [],
   "source": []
  },
  {
   "cell_type": "code",
   "execution_count": 13,
   "metadata": {},
   "outputs": [
    {
     "name": "stdout",
     "output_type": "stream",
     "text": [
      "2 1\n",
      "3 2\n",
      "4 3\n",
      "5 5\n",
      "6 8\n",
      "7 13\n",
      "8 21\n",
      "9 34\n",
      "10 55\n",
      "11 89\n",
      "12 144\n",
      "\n",
      "The 13th element is :  144\n",
      "[0, 1, 1, 2, 3, 5, 8, 13, 21, 34, 55, 89, 144]\n"
     ]
    }
   ],
   "source": [
    "series = [0, 1]\n",
    "\n",
    "for i in range(2, 13):\n",
    "    series.append(series[-1] + series[-2])\n",
    "    print(i,series[-1])\n",
    "\n",
    "print(\"\\nThe 13th element is : \",series[-1])\n",
    "print(series)"
   ]
  },
  {
   "cell_type": "code",
   "execution_count": 10,
   "metadata": {},
   "outputs": [
    {
     "name": "stdout",
     "output_type": "stream",
     "text": [
      "144\n"
     ]
    }
   ],
   "source": [
    "s = [0,1]\n",
    "for i in range(2,13):\n",
    "    last = s[-1]\n",
    "    s_last = s[-2]\n",
    "    next = last + s_last\n",
    "    s.append(next)\n",
    "print(next)"
   ]
  },
  {
   "cell_type": "code",
   "execution_count": 21,
   "metadata": {},
   "outputs": [
    {
     "name": "stdout",
     "output_type": "stream",
     "text": [
      "15\n",
      "377\n",
      "[0, 1, 1, 2, 3, 5, 8, 13, 21, 34, 55, 89, 144, 233, 377]\n"
     ]
    }
   ],
   "source": [
    "s = [0, 1]\n",
    "\n",
    "while s[-1] < 377:\n",
    "    s.append(s[-1] + s[-2])\n",
    "print(len(s))\n",
    "print(s[-1])\n",
    "print(s)\n",
    "    "
   ]
  },
  {
   "cell_type": "code",
   "execution_count": 11,
   "metadata": {},
   "outputs": [
    {
     "name": "stdout",
     "output_type": "stream",
     "text": [
      "233\n",
      "[1, 2, 3, 5, 8, 13, 21, 34, 55, 89, 144, 233]\n"
     ]
    }
   ],
   "source": [
    "s = [1, 2]\n",
    "for i in range(2, 12):\n",
    "    s.append(s[-1] + s[-2])\n",
    "print(s[-1])\n",
    "print(s)"
   ]
  },
  {
   "cell_type": "code",
   "execution_count": 17,
   "metadata": {
    "scrolled": true
   },
   "outputs": [
    {
     "name": "stdout",
     "output_type": "stream",
     "text": [
      "3\n",
      "5\n",
      "8\n",
      "13\n",
      "21\n",
      "34\n",
      "55\n",
      "89\n",
      "144\n",
      "233\n"
     ]
    }
   ],
   "source": [
    "s = [1,2]\n",
    "while (len(s) < 12):\n",
    "    s.append(s[-1] + s[-2])\n",
    "    print(s[-1])"
   ]
  },
  {
   "cell_type": "code",
   "execution_count": 31,
   "metadata": {},
   "outputs": [
    {
     "data": {
      "text/plain": [
       "14"
      ]
     },
     "execution_count": 31,
     "metadata": {},
     "output_type": "execute_result"
    }
   ],
   "source": [
    "#Program to find out the position of a given number in fibonacci series using function\n",
    "\n",
    "def fib(n):\n",
    "    s = [0, 1]\n",
    "    while s[-1] < n:\n",
    "        s.append(s[-1] + s[-2])\n",
    "    if s[-1] == n:\n",
    "        return len(s)\n",
    "    else:\n",
    "        return 0\n",
    "fib(233)"
   ]
  },
  {
   "cell_type": "code",
   "execution_count": null,
   "metadata": {},
   "outputs": [],
   "source": [
    "#Factorial number function\n",
    "a = 1\n",
    "b = 1\n",
    "def fact(n):\n",
    "    while a<=n:\n",
    "        b = b * a\n",
    "        a = a + 1\n",
    "        return b\n",
    "fact(3)"
   ]
  },
  {
   "cell_type": "code",
   "execution_count": null,
   "metadata": {},
   "outputs": [],
   "source": [
    "\"hello\""
   ]
  },
  {
   "cell_type": "code",
   "execution_count": null,
   "metadata": {},
   "outputs": [],
   "source": []
  }
 ],
 "metadata": {
  "kernelspec": {
   "display_name": "Python 3 (ipykernel)",
   "language": "python",
   "name": "python3"
  },
  "language_info": {
   "codemirror_mode": {
    "name": "ipython",
    "version": 3
   },
   "file_extension": ".py",
   "mimetype": "text/x-python",
   "name": "python",
   "nbconvert_exporter": "python",
   "pygments_lexer": "ipython3",
   "version": "3.7.11"
  }
 },
 "nbformat": 4,
 "nbformat_minor": 4
}
